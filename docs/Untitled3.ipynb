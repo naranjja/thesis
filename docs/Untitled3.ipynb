{
 "cells": [
  {
   "cell_type": "code",
   "execution_count": 1,
   "metadata": {
    "collapsed": true
   },
   "outputs": [],
   "source": [
    "import pandas as pd"
   ]
  },
  {
   "cell_type": "code",
   "execution_count": 4,
   "metadata": {},
   "outputs": [],
   "source": [
    "df = pd.read_csv('bases_full.csv')"
   ]
  },
  {
   "cell_type": "code",
   "execution_count": 5,
   "metadata": {
    "collapsed": true
   },
   "outputs": [],
   "source": [
    "hk1_features = [\n",
    "    'cod_ide', \n",
    "    'Cargo',\n",
    "    'Edad',\n",
    "    'Genero', \n",
    "    'EstadoCivil',\n",
    "    'nProductividad',\n",
    "    'nProbMoraNoHeredada', \n",
    "    'nProbMoraHeredada',\n",
    "    'ingresoef', \n",
    "    'pregunta_1', \n",
    "    'pregunta_2', \n",
    "    'pregunta_3',\n",
    "    'pregunta_4', \n",
    "    'pregunta_5', \n",
    "    'pregunta_6', \n",
    "    'pregunta_7', \n",
    "    'pregunta_8',\n",
    "    'pregunta_9', \n",
    "    'pregunta_10', \n",
    "    'pregunta_11', \n",
    "    'pregunta_12',\n",
    "    'pregunta_13', \n",
    "    'pregunta_14', \n",
    "    'pregunta_15', \n",
    "    'pregunta_16',\n",
    "    'pregunta_17', \n",
    "    'pregunta_18', \n",
    "    'pregunta_19', \n",
    "    'pregunta_20',\n",
    "    'pregunta_21', \n",
    "    'pregunta_22', \n",
    "    'pregunta_23', \n",
    "    'pregunta_24',\n",
    "    'pregunta_25', \n",
    "    'pregunta_26', \n",
    "    'pregunta_27', \n",
    "    'pregunta_28',\n",
    "    'pregunta_29', \n",
    "    'pregunta_30'\n",
    "]\n",
    "\n",
    "hk2_features = [\n",
    "    'cod_ide', \n",
    "    'Cargo', \n",
    "    'Y', \n",
    "    'nEntidades_competencia', \n",
    "    'nDesem_ult_semana',\n",
    "    'cero_cuotas', \n",
    "    'nPorcentaje_cero_cuotas_ope',\n",
    "    'nPorcentaje_sal_cero_cuo', \n",
    "    'Amonestacion', \n",
    "    'nAmonestacion_suspension',\n",
    "    'nvarsaldocapital', \n",
    "    'herencia', \n",
    "    'nporcentaje_Herencia', \n",
    "    'nOperaciones',\n",
    "    'nProbMoraNoHeredada', \n",
    "    'nProbMoraHeredada', \n",
    "    'nRatio_crec_deuda', \n",
    "    'Edad',\n",
    "    'Clasificacion_Asesor_Urb_Rur', \n",
    "    'Genero', \n",
    "    'EstadoCivil',\n",
    "    'nProductividad', \n",
    "    'antiguedad',\n",
    "    'ingresoef', \n",
    "    'pregunta_1', \n",
    "    'pregunta_2', \n",
    "    'pregunta_3',\n",
    "    'pregunta_4', \n",
    "    'pregunta_5', \n",
    "    'pregunta_6', \n",
    "    'pregunta_7', \n",
    "    'pregunta_8',\n",
    "    'pregunta_9', \n",
    "    'pregunta_10', \n",
    "    'pregunta_11', \n",
    "    'pregunta_12',\n",
    "    'pregunta_13', \n",
    "    'pregunta_14', \n",
    "    'pregunta_15', \n",
    "    'pregunta_16',\n",
    "    'pregunta_17', \n",
    "    'pregunta_18', \n",
    "    'pregunta_19', \n",
    "    'pregunta_20',\n",
    "    'pregunta_21', \n",
    "    'pregunta_22', \n",
    "    'pregunta_23', \n",
    "    'pregunta_24',\n",
    "    'pregunta_25', \n",
    "    'pregunta_26', \n",
    "    'pregunta_27', \n",
    "    'pregunta_28',\n",
    "    'pregunta_29', \n",
    "    'pregunta_30'\n",
    "]"
   ]
  },
  {
   "cell_type": "code",
   "execution_count": null,
   "metadata": {
    "collapsed": true
   },
   "outputs": [],
   "source": []
  }
 ],
 "metadata": {
  "kernelspec": {
   "display_name": "Python 3",
   "language": "python",
   "name": "python3"
  },
  "language_info": {
   "codemirror_mode": {
    "name": "ipython",
    "version": 3
   },
   "file_extension": ".py",
   "mimetype": "text/x-python",
   "name": "python",
   "nbconvert_exporter": "python",
   "pygments_lexer": "ipython3",
   "version": "3.6.1"
  }
 },
 "nbformat": 4,
 "nbformat_minor": 2
}
